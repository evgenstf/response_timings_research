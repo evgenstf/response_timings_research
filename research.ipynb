{
 "cells": [
  {
   "cell_type": "code",
   "execution_count": 3,
   "id": "brief-panama",
   "metadata": {},
   "outputs": [
    {
     "name": "stdout",
     "output_type": "stream",
     "text": [
      "1000\n",
      "2000\n",
      "messages size: 2463\n"
     ]
    }
   ],
   "source": [
    "import nest_asyncio\n",
    "nest_asyncio.apply()\n",
    "\n",
    "\n",
    "from telethon import TelegramClient\n",
    "from telethon.tl.functions.messages import GetHistoryRequest\n",
    "\n",
    "api_id = 2431318\n",
    "api_hash = '6f0a9ed2582bb334911c2915871fafb9'\n",
    "\n",
    "client = TelegramClient('session_name', api_id, api_hash)\n",
    "\n",
    "async def main():\n",
    "    username = '@username'\n",
    "\n",
    "    user = await client.get_entity(username)\n",
    "\n",
    "    timestamps_history = []\n",
    "    \n",
    "    offset = 0\n",
    "    has_messages = True\n",
    "    while has_messages:\n",
    "        history = await client(GetHistoryRequest(\n",
    "            peer=user,\n",
    "            limit=200,\n",
    "            offset_date=None,\n",
    "            offset_id=0,\n",
    "            max_id=0,\n",
    "            min_id=0,\n",
    "            add_offset=offset,\n",
    "            hash=0))\n",
    "        \n",
    "        has_messages = False\n",
    "        for message in history.messages:\n",
    "            has_messages = True\n",
    "            timestamps_history.append((message.date, message.out, message.message))\n",
    "            \n",
    "        offset += len(history.messages)\n",
    "        if offset % 1000 == 0:\n",
    "            print(offset)\n",
    "        \n",
    "        \n",
    "\n",
    "    \n",
    "    def split_history_into_replicas(history):\n",
    "        replicas = []\n",
    "\n",
    "        \n",
    "        print(\"messages size:\", len(history))\n",
    "\n",
    "        i = 0\n",
    "        while i < len(history):\n",
    "            replica = []\n",
    "            while i < len(history) and history[i][1]:\n",
    "                replica.append(history[i])\n",
    "                i += 1\n",
    "            if replica:\n",
    "                replica.reverse()\n",
    "                replicas.append(replica)\n",
    "\n",
    "            replica = []\n",
    "            while i < len(history) and not history[i][1]:\n",
    "                replica.append(history[i])\n",
    "                i += 1\n",
    "            if replica:\n",
    "                replica.reverse()\n",
    "                replicas.append(replica)\n",
    "\n",
    "        replicas.reverse()\n",
    "        return replicas\n",
    "\n",
    "\n",
    "\n",
    "    replicas = split_history_into_replicas(timestamps_history)\n",
    "    \n",
    "    her_diffs = []\n",
    "    my_diffs = []\n",
    "\n",
    "    for i in range(len(replicas) - 1):\n",
    "        first_next = replicas[i + 1][0]\n",
    "        last_current = replicas[i][-1]\n",
    "        diff = first_next[0] - last_current[0]\n",
    "        if last_current[2] and '?' in last_current[2]:\n",
    "            print(last_current[2], '->', diff, '->', first_next[2])\n",
    "            if last_current[1] and not first_next[1]:\n",
    "                her_diffs.append(diff.seconds)\n",
    "            else:\n",
    "                my_diffs.append(diff.seconds)\n",
    "        \n",
    "    return (her_diffs, my_diffs)\n",
    "\n",
    "async with client:\n",
    "    diffs = client.loop.run_until_complete(main())"
   ]
  },
  {
   "cell_type": "code",
   "execution_count": null,
   "id": "developing-radical",
   "metadata": {},
   "outputs": [],
   "source": []
  },
  {
   "cell_type": "code",
   "execution_count": 5,
   "id": "expressed-vegetation",
   "metadata": {},
   "outputs": [
    {
     "name": "stdout",
     "output_type": "stream",
     "text": [
      "username: her median: 159.0 my median: 35.5\n",
      "username: her mean: 6424.25 my mean: 1721.7181818181818\n"
     ]
    }
   ],
   "source": [
    "def build_distribution(data, step, left_th, right_th):\n",
    "    new_data = []\n",
    "    for ts in data:\n",
    "        if left_th <= ts <= right_th:\n",
    "            new_data.append(ts)\n",
    "            \n",
    "    data = new_data\n",
    "    \n",
    "    bins = max(data) // step + 1\n",
    "    dist = [0] * bins \n",
    "    for x in data:\n",
    "        dist[x // step] += 1\n",
    "        \n",
    "    log_dist = []\n",
    "    i = 0\n",
    "    bin_size = 1\n",
    "    while i < len(dist):\n",
    "        next_i = i + bin_size\n",
    "        res = 0\n",
    "        while i < next_i and i < len(dist):\n",
    "            res += dist[i]\n",
    "            i += 1\n",
    "        log_dist.append(res)\n",
    "        bin_size *= 1.1\n",
    "        \n",
    "    for i in range(len(log_dist)):\n",
    "        log_dist[i] /= len(data)\n",
    "     \n",
    "    return log_dist\n",
    "\n",
    "step = 1\n",
    "left_threshold = 0\n",
    "right_threshold = 200000\n",
    "\n",
    "from statistics import median, mean\n",
    "\n",
    "def filter_th(dt, left_th, right_th):\n",
    "    res = []\n",
    "    for x in dt:\n",
    "        if left_th <= x <= right_th:\n",
    "            res.append(x)\n",
    "    return res\n",
    "\n",
    "right_slice = 5000\n",
    "\n",
    "her_dists = build_distribution(diffs[0], step, left_threshold, right_threshold)[:right_slice]\n",
    "my_dists = build_distribution(diffs[1], step, left_threshold, right_threshold)[:right_slice]\n",
    "print(\"username: her median:\", median(filter_th(diffs[0], left_threshold, right_threshold)),\n",
    "            \"my median:\", median(filter_th(diffs[1], left_threshold, right_threshold)))\n",
    "print(\"username: her mean:\", mean(filter_th(diffs[0], left_threshold, right_threshold)),\n",
    "            \"my mean:\", mean(filter_th(diffs[1], left_threshold, right_threshold)))\n"
   ]
  },
  {
   "cell_type": "code",
   "execution_count": 6,
   "id": "skilled-establishment",
   "metadata": {},
   "outputs": [
    {
     "name": "stdout",
     "output_type": "stream",
     "text": [
      "[0, 6, 12, 18, 24, 30, 36, 42, 48, 54, 60, 66, 72, 78, 84, 90, 96] [None, '7s', '21s', '45s', '1m', '2m', '4m', '8m', '16m', '28m', '50m', '1h', '2h', '4h', '8h', '14h', '26h']\n"
     ]
    }
   ],
   "source": [
    "def get_label_by_sec(sec):\n",
    "    ss = sec % 60\n",
    "    mm = (sec // 60) % 60\n",
    "    hh = sec // 60 // 60\n",
    "    \n",
    "    res = \"\"\n",
    "    if hh > 0:\n",
    "        return str(hh) + \"h\"\n",
    "    if mm > 0:\n",
    "        if res:\n",
    "            res += ' '\n",
    "        return str(mm) + \"m\"\n",
    "        \n",
    "    if ss > 0:\n",
    "        if res:\n",
    "            res += ' '\n",
    "        return str(ss) + \"s\"\n",
    "        \n",
    "        \n",
    "        \n",
    "x = []\n",
    "labels = []\n",
    "k = 1.1\n",
    "bin_size = 1\n",
    "curr = 0\n",
    "last_label = -10\n",
    "for i in range(100):\n",
    "    if last_label + 5 < i:\n",
    "        x.append(i)\n",
    "        labels.append(get_label_by_sec(int(curr)))\n",
    "        last_label = i\n",
    "    curr += bin_size\n",
    "    bin_size *= k\n",
    "\n",
    "print(x, labels)"
   ]
  },
  {
   "cell_type": "code",
   "execution_count": 11,
   "id": "inside-franklin",
   "metadata": {},
   "outputs": [
    {
     "data": {
      "text/plain": [
       "<Figure size 1280x480 with 0 Axes>"
      ]
     },
     "metadata": {},
     "output_type": "display_data"
    },
    {
     "data": {
      "image/png": "[encoded data removed]",
      "text/plain": [
       "<Figure size 1280x480 with 1 Axes>"
      ]
     },
     "metadata": {},
     "output_type": "display_data"
    }
   ],
   "source": [
    "from scipy.interpolate import make_interp_spline, BSpline\n",
    "import matplotlib.pyplot as plt\n",
    "import numpy as np\n",
    "\n",
    "from matplotlib.pyplot import figure\n",
    "figure(num=None, figsize=(16, 6), dpi=80, facecolor='w', edgecolor='k')\n",
    "\n",
    "\n",
    "\n",
    "figure(num=None, figsize=(16, 6), dpi=80, facecolor='w', edgecolor='k')\n",
    "plt.bar([i for i in range(len(her_dists))], her_dists, color='blue', alpha=0.5)\n",
    "plt.bar([i for i in range(len(my_dists))], my_dists, color='orange', alpha=0.5)\n",
    "plt.xticks(x, labels, rotation='horizontal')\n",
    "plt.legend(['her', 'me'])\n",
    "plt.show()"
   ]
  },
  {
   "cell_type": "code",
   "execution_count": null,
   "id": "thousand-comment",
   "metadata": {},
   "outputs": [],
   "source": []
  }
 ],
 "metadata": {
  "kernelspec": {
   "display_name": "Python 3",
   "language": "python",
   "name": "python3"
  },
  "language_info": {
   "codemirror_mode": {
    "name": "ipython",
    "version": 3
   },
   "file_extension": ".py",
   "mimetype": "text/x-python",
   "name": "python",
   "nbconvert_exporter": "python",
   "pygments_lexer": "ipython3",
   "version": "3.9.0"
  }
 },
 "nbformat": 4,
 "nbformat_minor": 5
}
